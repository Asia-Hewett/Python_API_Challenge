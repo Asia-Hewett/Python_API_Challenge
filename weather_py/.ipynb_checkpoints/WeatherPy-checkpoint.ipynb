{
 "cells": [
  {
   "cell_type": "markdown",
   "metadata": {},
   "source": [
    "# WeatherPy\n",
    "----\n",
    "\n",
    "#### Note\n",
    "* Instructions have been included for each segment. You do not have to follow them exactly, but they are included to help you think through the steps."
   ]
  },
  {
   "cell_type": "code",
   "execution_count": 28,
   "metadata": {
    "scrolled": true
   },
   "outputs": [],
   "source": [
    "# Dependencies and Setup\n",
    "import matplotlib.pyplot as plt\n",
    "import pandas as pd\n",
    "import numpy as np\n",
    "import requests\n",
    "import time\n",
    "import json\n",
    "import pprint as pprint\n",
    "from scipy.stats import linregress\n",
    "\n",
    "from pandas.io.json import json_normalize\n",
    "\n",
    "# Import API key\n",
    "from api_keys import weather_api_key\n",
    "\n",
    "# Incorporated citipy to determine city based on latitude and longitude\n",
    "from citipy import citipy\n",
    "\n",
    "# Output File (CSV)\n",
    "output_data_file = \"output_data/cities.csv\"\n",
    "\n",
    "# Range of latitudes and longitudes\n",
    "lat_range = (-90, 90)\n",
    "lng_range = (-180, 180)\n"
   ]
  },
  {
   "cell_type": "markdown",
   "metadata": {},
   "source": [
    "## Generate Cities List"
   ]
  },
  {
   "cell_type": "code",
   "execution_count": 29,
   "metadata": {},
   "outputs": [
    {
     "data": {
      "text/plain": [
       "633"
      ]
     },
     "execution_count": 29,
     "metadata": {},
     "output_type": "execute_result"
    }
   ],
   "source": [
    "# List for holding lat_lngs and cities\n",
    "lat_lngs = []\n",
    "cities = []\n",
    "\n",
    "# Create a set of random lat and lng combinations\n",
    "lats = np.random.uniform(lat_range[0], lat_range[1], size=1500)\n",
    "lngs = np.random.uniform(lng_range[0], lng_range[1], size=1500)\n",
    "lat_lngs = zip(lats, lngs)\n",
    "\n",
    "\n",
    "# Identify nearest city for each lat, lng combination\n",
    "for lat_lng in lat_lngs:\n",
    "    city = citipy.nearest_city(lat_lng[0], lat_lng[1]).city_name\n",
    "    \n",
    "    # If the city is unique, then add it to a our cities list\n",
    "    if city not in cities:\n",
    "        cities.append(city)\n",
    "\n",
    "# Print the city count to confirm sufficient count\n",
    "len(cities)"
   ]
  },
  {
   "cell_type": "markdown",
   "metadata": {},
   "source": [
    "### Perform API Calls\n",
    "* Perform a weather check on each city using a series of successive API calls.\n",
    "* Include a print log of each city as it'sbeing processed (with the city number and city name).\n"
   ]
  },
  {
   "cell_type": "code",
   "execution_count": 31,
   "metadata": {},
   "outputs": [
    {
     "name": "stdout",
     "output_type": "stream",
     "text": [
      "City not found. Skipping...\n",
      "Processing Record 2 of Set 1 |Chokurdakh\n",
      "City not found. Skipping...\n",
      "Processing Record 4 of Set 1 |Rikitea\n",
      "Processing Record 5 of Set 1 |Albany\n",
      "Processing Record 6 of Set 1 |Mataura\n",
      "Processing Record 7 of Set 1 |Betanzos\n",
      "Processing Record 8 of Set 1 |Saint Paul Harbor\n",
      "Processing Record 9 of Set 1 |Bajil\n",
      "Processing Record 10 of Set 1 |Ushuaia\n",
      "Processing Record 11 of Set 1 |Bethel\n",
      "Processing Record 12 of Set 1 |Anito\n",
      "Processing Record 13 of Set 1 |Farrukhnagar\n",
      "Processing Record 14 of Set 1 |Nantucket\n",
      "Processing Record 15 of Set 1 |Shunyi\n",
      "Processing Record 16 of Set 1 |Camacha\n",
      "Processing Record 17 of Set 1 |Punta Arenas\n",
      "Processing Record 18 of Set 1 |Qaanaaq\n",
      "Processing Record 19 of Set 1 |Saint Anthony\n",
      "Processing Record 20 of Set 1 |Bluff\n",
      "City not found. Skipping...\n",
      "Processing Record 22 of Set 1 |Tuy Hoa\n",
      "Processing Record 23 of Set 1 |Jamestown\n",
      "City not found. Skipping...\n",
      "Processing Record 25 of Set 1 |Kerema\n",
      "Processing Record 26 of Set 1 |Kapaa\n",
      "Processing Record 27 of Set 1 |Castro\n",
      "Processing Record 28 of Set 1 |Cabedelo\n",
      "Processing Record 29 of Set 1 |Upernavik\n",
      "Processing Record 30 of Set 1 |Taltal\n",
      "Processing Record 31 of Set 1 |Lüderitz\n",
      "Processing Record 32 of Set 1 |Port Elizabeth\n",
      "Processing Record 33 of Set 1 |Sahuaripa\n",
      "Processing Record 34 of Set 1 |Provideniya\n",
      "Processing Record 35 of Set 1 |Calvinia\n",
      "Processing Record 36 of Set 1 |Parrita\n",
      "Processing Record 37 of Set 1 |Nea Kios\n",
      "City not found. Skipping...\n",
      "Processing Record 39 of Set 1 |Blind River\n",
      "City not found. Skipping...\n",
      "Processing Record 41 of Set 1 |Ilulissat\n",
      "Processing Record 42 of Set 1 |Asău\n",
      "Processing Record 43 of Set 1 |Tuatapere\n",
      "Processing Record 44 of Set 1 |Busselton\n",
      "Processing Record 45 of Set 1 |Antofagasta\n",
      "Processing Record 46 of Set 1 |Thompson\n",
      "Processing Record 47 of Set 1 |Tautira\n",
      "Processing Record 48 of Set 1 |Cherskiy\n",
      "Processing Record 49 of Set 1 |Porto Santo\n",
      "Processing Record 50 of Set 1 |Cabo San Lucas\n",
      "Processing Record 51 of Set 1 |Vaini\n",
      "Processing Record 52 of Set 1 |Cape Town\n",
      "Processing Record 53 of Set 1 |Hegang\n",
      "Processing Record 54 of Set 1 |Cururupu\n",
      "Processing Record 55 of Set 1 |Avarua\n",
      "Processing Record 56 of Set 1 |Severo-Kuril'sk\n",
      "Processing Record 57 of Set 1 |Barrow\n",
      "Processing Record 58 of Set 1 |Maniitsoq\n",
      "Processing Record 59 of Set 1 |Dīglūr\n",
      "Processing Record 60 of Set 1 |Hilo\n",
      "Processing Record 61 of Set 1 |Świnoujście\n",
      "Processing Record 62 of Set 1 |Saskylakh\n",
      "Processing Record 63 of Set 1 |Usinsk\n",
      "Processing Record 64 of Set 1 |Springbok\n",
      "Processing Record 65 of Set 1 |Sabang\n",
      "Processing Record 66 of Set 1 |Hermanus\n",
      "Processing Record 67 of Set 1 |Bredasdorp\n",
      "Processing Record 68 of Set 1 |Guerrero Negro\n",
      "Processing Record 69 of Set 1 |George Town\n",
      "City not found. Skipping...\n",
      "Processing Record 71 of Set 1 |San Vicente\n",
      "Processing Record 72 of Set 1 |Rosarito\n",
      "Processing Record 73 of Set 1 |Grand Gaube\n",
      "Processing Record 74 of Set 1 |San Andrés\n",
      "Processing Record 75 of Set 1 |Shizunai-furukawachō\n",
      "Processing Record 76 of Set 1 |Ancud\n",
      "Processing Record 77 of Set 1 |Atuona\n",
      "Processing Record 78 of Set 1 |Borba\n",
      "Processing Record 79 of Set 1 |Salalah\n",
      "Processing Record 80 of Set 1 |Hobart\n",
      "Processing Record 81 of Set 1 |Novoagansk\n",
      "City not found. Skipping...\n",
      "Processing Record 83 of Set 1 |Smithers\n",
      "City not found. Skipping...\n",
      "Processing Record 85 of Set 1 |Conceição do Araguaia\n",
      "Processing Record 86 of Set 1 |Nhulunbuy\n",
      "Processing Record 87 of Set 1 |Lagunas\n",
      "Processing Record 88 of Set 1 |Mar del Plata\n",
      "Processing Record 89 of Set 1 |New Norfolk\n",
      "Processing Record 90 of Set 1 |Ostrovnoy\n",
      "Processing Record 91 of Set 1 |Taketoyo\n",
      "Processing Record 92 of Set 1 |Harper\n",
      "Processing Record 93 of Set 1 |Kiryat Gat\n",
      "Processing Record 94 of Set 1 |Fort Beaufort\n",
      "Processing Record 95 of Set 1 |Bengkulu\n",
      "Processing Record 96 of Set 1 |Ndendé\n",
      "Processing Record 97 of Set 1 |Kedrovyy\n",
      "Processing Record 98 of Set 1 |Yar-Sale\n",
      "Processing Record 99 of Set 1 |Cockburn Town\n",
      "Processing Record 100 of Set 1 |Kazachinskoye\n",
      "Processing Record 101 of Set 1 |Tuktoyaktuk\n",
      "Processing Record 102 of Set 1 |Lynn Haven\n",
      "Processing Record 103 of Set 1 |Hithadhoo\n",
      "Processing Record 104 of Set 1 |Hofn\n",
      "Processing Record 105 of Set 1 |Praia da Vitória\n",
      "Processing Record 106 of Set 1 |Gamba\n",
      "Processing Record 107 of Set 1 |Alta Floresta\n",
      "Processing Record 108 of Set 1 |Pasni\n",
      "Processing Record 109 of Set 1 |Puerto Carreño\n",
      "Processing Record 110 of Set 1 |Puerto Ayora\n",
      "Processing Record 111 of Set 1 |Butaritari\n",
      "Processing Record 112 of Set 1 |Pahrump\n",
      "Processing Record 113 of Set 1 |Batagay-Alyta\n",
      "Processing Record 114 of Set 1 |Sainte-Thècle\n",
      "Processing Record 115 of Set 1 |Carnarvon\n",
      "Processing Record 116 of Set 1 |Codrington\n",
      "Processing Record 117 of Set 1 |Opuwo\n",
      "Processing Record 118 of Set 1 |Jacareacanga\n",
      "Processing Record 119 of Set 1 |Banda Aceh\n",
      "Processing Record 120 of Set 1 |Deputatsky\n",
      "Processing Record 121 of Set 1 |Yellowknife\n",
      "Processing Record 122 of Set 1 |Santa Flavia\n",
      "City not found. Skipping...\n",
      "City not found. Skipping...\n",
      "Processing Record 125 of Set 1 |Avera\n",
      "Processing Record 126 of Set 1 |Douentza\n",
      "City not found. Skipping...\n",
      "Processing Record 128 of Set 1 |Leningradskiy\n",
      "Processing Record 129 of Set 1 |Yeola\n",
      "Processing Record 130 of Set 1 |Torbay\n",
      "Processing Record 131 of Set 1 |Ribeira Grande\n",
      "Processing Record 132 of Set 1 |Seminole\n",
      "Processing Record 133 of Set 1 |Kharitonovo\n",
      "Processing Record 134 of Set 1 |Narsaq\n",
      "Processing Record 135 of Set 1 |Jalu\n",
      "Processing Record 136 of Set 1 |College\n",
      "Processing Record 137 of Set 1 |Alofi\n",
      "Processing Record 138 of Set 1 |Bestöbe\n",
      "Processing Record 139 of Set 1 |Rumuruti\n",
      "Processing Record 140 of Set 1 |Pamanukan\n",
      "City not found. Skipping...\n",
      "Processing Record 142 of Set 1 |Paracuru\n",
      "Processing Record 143 of Set 1 |San Patricio\n",
      "Processing Record 144 of Set 1 |Xapuri\n",
      "City not found. Skipping...\n",
      "Processing Record 146 of Set 1 |Gijang\n",
      "Processing Record 147 of Set 1 |Hong Kong\n",
      "City not found. Skipping...\n",
      "Processing Record 149 of Set 1 |Makaha\n",
      "Processing Record 150 of Set 1 |Ampanihy\n",
      "Processing Record 151 of Set 1 |Longyearbyen\n",
      "Processing Record 152 of Set 1 |Helong\n",
      "Processing Record 153 of Set 1 |Dingle\n",
      "Processing Record 154 of Set 1 |Isla Mujeres\n",
      "Processing Record 155 of Set 1 |Lebu\n",
      "City not found. Skipping...\n",
      "Processing Record 157 of Set 1 |Vanimo\n",
      "Processing Record 158 of Set 1 |Saint George\n",
      "Processing Record 159 of Set 1 |Constitución\n",
      "Processing Record 160 of Set 1 |Portland\n",
      "Processing Record 161 of Set 1 |Iskateley\n",
      "Processing Record 162 of Set 1 |Pawa\n",
      "Processing Record 163 of Set 1 |Marabba\n",
      "Processing Record 164 of Set 1 |Yerbogachën\n",
      "City not found. Skipping...\n",
      "Processing Record 166 of Set 1 |Acapulco de Juárez\n",
      "Processing Record 167 of Set 1 |Itoman\n",
      "City not found. Skipping...\n",
      "Processing Record 169 of Set 1 |Dicabisagan\n",
      "City not found. Skipping...\n",
      "Processing Record 171 of Set 1 |Nuuk\n",
      "Processing Record 172 of Set 1 |Champerico\n",
      "Processing Record 173 of Set 1 |Rock Springs\n",
      "Processing Record 174 of Set 1 |Souillac\n",
      "Processing Record 175 of Set 1 |Port Macquarie\n",
      "Processing Record 176 of Set 1 |Tigil'\n",
      "Processing Record 177 of Set 1 |Filingué\n",
      "City not found. Skipping...\n",
      "Processing Record 179 of Set 1 |Laguna\n",
      "Processing Record 180 of Set 1 |Kumul\n",
      "Processing Record 181 of Set 1 |Lázaro Cárdenas\n",
      "Processing Record 182 of Set 1 |Santa Teresa del Tuy\n",
      "Processing Record 183 of Set 1 |Thinadhoo\n",
      "Processing Record 184 of Set 1 |Hambantota\n",
      "Processing Record 185 of Set 1 |Nikolskoye\n",
      "Processing Record 186 of Set 1 |Yeppoon\n",
      "Processing Record 187 of Set 1 |Port-Cartier\n",
      "Processing Record 188 of Set 1 |Tual\n",
      "Processing Record 189 of Set 1 |Buchanan\n",
      "Processing Record 190 of Set 1 |Rozhdestveno\n",
      "Processing Record 191 of Set 1 |Mahébourg\n",
      "Processing Record 192 of Set 1 |Itumbiara\n",
      "Processing Record 193 of Set 1 |Iqaluit\n",
      "Processing Record 194 of Set 1 |São João da Barra\n",
      "Processing Record 195 of Set 1 |Jiangyou\n",
      "Processing Record 196 of Set 1 |Skotterud\n",
      "Processing Record 197 of Set 1 |Shīeli\n",
      "Processing Record 198 of Set 1 |Mubende\n",
      "Processing Record 199 of Set 1 |Kaspiysk\n",
      "Processing Record 200 of Set 1 |Mossamedes\n",
      "Processing Record 201 of Set 1 |Evanston\n",
      "Processing Record 202 of Set 1 |Kondinskoye\n",
      "Processing Record 203 of Set 1 |Tonantins\n",
      "Processing Record 204 of Set 1 |Marawi\n",
      "Processing Record 205 of Set 1 |Takoradze\n"
     ]
    },
    {
     "name": "stdout",
     "output_type": "stream",
     "text": [
      "Processing Record 206 of Set 1 |Aksay\n",
      "Processing Record 207 of Set 1 |Choma\n",
      "City not found. Skipping...\n",
      "Processing Record 209 of Set 1 |Dukat\n",
      "Processing Record 210 of Set 1 |Nipawin\n",
      "Processing Record 211 of Set 1 |Cayenne\n",
      "Processing Record 212 of Set 1 |Khatanga\n",
      "Processing Record 213 of Set 1 |Garoowe\n",
      "Processing Record 214 of Set 1 |Gorontalo\n",
      "Processing Record 215 of Set 1 |Aswān\n",
      "Processing Record 216 of Set 1 |Tazovsky\n",
      "Processing Record 217 of Set 1 |Faanui\n",
      "Processing Record 218 of Set 1 |Mackay\n",
      "Processing Record 219 of Set 1 |Leshukonskoye\n",
      "Processing Record 220 of Set 1 |Nara\n",
      "Processing Record 221 of Set 1 |Puerto Escondido\n",
      "Processing Record 222 of Set 1 |Raudeberg\n",
      "Processing Record 223 of Set 1 |Chara\n",
      "Processing Record 224 of Set 1 |Thai Binh\n",
      "Processing Record 225 of Set 1 |Broken Hill\n",
      "Processing Record 226 of Set 1 |Clyde River\n",
      "Processing Record 227 of Set 1 |Sorong\n",
      "Processing Record 228 of Set 1 |Wanning\n",
      "Processing Record 229 of Set 1 |Caravelas\n",
      "Processing Record 230 of Set 1 |Dunedin\n",
      "Processing Record 231 of Set 1 |Bontang\n",
      "Processing Record 232 of Set 1 |Qaqortoq\n",
      "Processing Record 233 of Set 1 |Kahului\n",
      "Processing Record 234 of Set 1 |Nālūt\n",
      "Processing Record 235 of Set 1 |Vila Velha\n",
      "Processing Record 236 of Set 1 |Kavieng\n",
      "Processing Record 237 of Set 1 |Cap Malheureux\n",
      "Processing Record 238 of Set 1 |Hasaki\n",
      "Processing Record 239 of Set 1 |Port Alfred\n",
      "Processing Record 240 of Set 1 |Tarragona\n",
      "City not found. Skipping...\n",
      "Processing Record 242 of Set 1 |Magugu\n",
      "Processing Record 243 of Set 1 |Meulaboh\n",
      "Processing Record 244 of Set 1 |Rome\n",
      "Processing Record 245 of Set 1 |Arlit\n",
      "Processing Record 246 of Set 1 |Sørland\n",
      "Processing Record 247 of Set 1 |Airai\n",
      "Processing Record 248 of Set 1 |Dauphin\n",
      "Processing Record 249 of Set 1 |Ahome\n",
      "Processing Record 250 of Set 1 |Coahuayana Viejo\n",
      "Processing Record 251 of Set 1 |Hamilton\n",
      "Processing Record 252 of Set 1 |Lorengau\n",
      "Processing Record 253 of Set 1 |Sabha\n",
      "Processing Record 254 of Set 1 |Arraial do Cabo\n",
      "Processing Record 255 of Set 1 |Burgeo\n",
      "Processing Record 256 of Set 1 |Salina Cruz\n",
      "Processing Record 257 of Set 1 |Thayetmyo\n",
      "Processing Record 258 of Set 1 |Dulce Grande\n",
      "Processing Record 259 of Set 1 |Ligayan\n",
      "City not found. Skipping...\n",
      "Processing Record 261 of Set 1 |Samarai\n",
      "Processing Record 262 of Set 1 |Havre-St-Pierre\n",
      "Processing Record 263 of Set 1 |Haimen\n",
      "Processing Record 264 of Set 1 |Mount Isa\n",
      "Processing Record 265 of Set 1 |Gweru\n",
      "Processing Record 266 of Set 1 |High Rock\n",
      "Processing Record 267 of Set 1 |Port Hedland\n",
      "Processing Record 268 of Set 1 |Fortuna\n",
      "Processing Record 269 of Set 1 |East London\n",
      "Processing Record 270 of Set 1 |Bam\n",
      "Processing Record 271 of Set 1 |Loncoche\n",
      "Processing Record 272 of Set 1 |Launceston\n",
      "Processing Record 273 of Set 1 |Olafsvik\n",
      "Processing Record 274 of Set 1 |Aklavik\n",
      "Processing Record 275 of Set 1 |Petukhovo\n",
      "Processing Record 276 of Set 1 |São Filipe\n",
      "Processing Record 277 of Set 1 |Klaksvík\n",
      "Processing Record 278 of Set 1 |Pevek\n",
      "Processing Record 279 of Set 1 |Sylva\n",
      "Processing Record 280 of Set 1 |Pacific Grove\n",
      "Processing Record 281 of Set 1 |Cidreira\n",
      "City not found. Skipping...\n",
      "Processing Record 283 of Set 1 |Multai\n",
      "Processing Record 284 of Set 1 |Susanville\n",
      "Processing Record 285 of Set 1 |Poum\n",
      "Processing Record 286 of Set 1 |Kuytun\n",
      "Processing Record 287 of Set 1 |Petersburg\n",
      "Processing Record 288 of Set 1 |Shangzhi\n",
      "Processing Record 289 of Set 1 |Tromsø\n",
      "Processing Record 290 of Set 1 |Davidson\n",
      "Processing Record 291 of Set 1 |Jining\n",
      "City not found. Skipping...\n",
      "Processing Record 293 of Set 1 |Lata\n",
      "Processing Record 294 of Set 1 |Najrān\n",
      "Processing Record 295 of Set 1 |Huilong\n",
      "Processing Record 296 of Set 1 |Vardø\n",
      "Processing Record 297 of Set 1 |Tazmalt\n",
      "Processing Record 298 of Set 1 |Evensk\n",
      "Processing Record 299 of Set 1 |Talnakh\n",
      "Processing Record 300 of Set 1 |Halifax\n",
      "Processing Record 301 of Set 1 |San Fernando\n",
      "Processing Record 302 of Set 1 |Konstantinovka\n",
      "Processing Record 303 of Set 1 |Houma\n",
      "Processing Record 304 of Set 1 |Tiznit Province\n",
      "Processing Record 305 of Set 1 |Svobodnyy\n",
      "Processing Record 306 of Set 1 |Sitka\n",
      "Processing Record 307 of Set 1 |Coyhaique\n",
      "City not found. Skipping...\n",
      "Processing Record 309 of Set 1 |Palmer\n",
      "Processing Record 310 of Set 1 |Emerald\n",
      "Processing Record 311 of Set 1 |Villazón\n",
      "Processing Record 312 of Set 1 |Vostok\n",
      "Processing Record 313 of Set 1 |Padang\n",
      "Processing Record 314 of Set 1 |Tegul'det\n",
      "Processing Record 315 of Set 1 |Nagorsk\n",
      "Processing Record 316 of Set 1 |Gusau\n",
      "Processing Record 317 of Set 1 |Xinzhi\n",
      "Processing Record 318 of Set 1 |Dikson\n",
      "Processing Record 319 of Set 1 |Lompoc\n",
      "Processing Record 320 of Set 1 |Erenhot\n",
      "Processing Record 321 of Set 1 |Tabou\n",
      "Processing Record 322 of Set 1 |La Rioja\n",
      "Processing Record 323 of Set 1 |Tezu\n",
      "Processing Record 324 of Set 1 |Bogorodskoye\n",
      "Processing Record 325 of Set 1 |Panama City\n",
      "Processing Record 326 of Set 1 |Yulara\n",
      "City not found. Skipping...\n",
      "City not found. Skipping...\n",
      "Processing Record 329 of Set 1 |Bandundu Province\n",
      "Processing Record 330 of Set 1 |Esperance\n",
      "Processing Record 331 of Set 1 |Namasuba\n",
      "City not found. Skipping...\n",
      "Processing Record 333 of Set 1 |Payson\n",
      "Processing Record 334 of Set 1 |Los Llanos de Aridane\n",
      "Processing Record 335 of Set 1 |Dafeng\n",
      "Processing Record 336 of Set 1 |Turaif\n",
      "Processing Record 337 of Set 1 |Arrondissement de Toul\n",
      "City not found. Skipping...\n",
      "Processing Record 339 of Set 1 |Yarim\n",
      "Processing Record 340 of Set 1 |Santa Cruz de la Sierra\n",
      "Processing Record 341 of Set 1 |Boyolangu\n",
      "Processing Record 342 of Set 1 |Husavik\n",
      "Processing Record 343 of Set 1 |City of San Pedro\n",
      "Processing Record 344 of Set 1 |Laas\n",
      "Processing Record 345 of Set 1 |General Pico\n",
      "Processing Record 346 of Set 1 |Dawlatabad\n",
      "Processing Record 347 of Set 1 |Kaitangata\n",
      "Processing Record 348 of Set 1 |Miles City\n",
      "Processing Record 349 of Set 1 |Bambous Virieux\n",
      "Processing Record 350 of Set 1 |Shimoda\n",
      "Processing Record 351 of Set 1 |Maumere\n",
      "Processing Record 352 of Set 1 |Alice Springs\n",
      "City not found. Skipping...\n",
      "Processing Record 354 of Set 1 |Baní\n",
      "Processing Record 355 of Set 1 |Chichimila\n",
      "Processing Record 356 of Set 1 |Huarmey\n",
      "Processing Record 357 of Set 1 |Bandarbeyla\n",
      "Processing Record 358 of Set 1 |Amapá\n",
      "Processing Record 359 of Set 1 |Norman Wells\n",
      "Processing Record 360 of Set 1 |Shelburne\n",
      "Processing Record 361 of Set 1 |Jonuta\n",
      "Processing Record 362 of Set 1 |Port Lincoln\n",
      "Processing Record 363 of Set 1 |Kingman\n",
      "Processing Record 364 of Set 1 |Naviraí\n",
      "Processing Record 365 of Set 1 |Flinders\n",
      "Processing Record 366 of Set 1 |Saldanha\n",
      "Processing Record 367 of Set 1 |Todos Santos\n",
      "Processing Record 368 of Set 1 |Bisira\n",
      "Processing Record 369 of Set 1 |Saint-Philippe\n",
      "Processing Record 370 of Set 1 |Ponta do Sol\n",
      "Processing Record 371 of Set 1 |Itarema\n",
      "Processing Record 372 of Set 1 |Tiksi\n",
      "Processing Record 373 of Set 1 |Imbituba\n",
      "Processing Record 374 of Set 1 |San Angelo\n",
      "Processing Record 375 of Set 1 |San Luis\n",
      "Processing Record 376 of Set 1 |La Ronge\n",
      "Processing Record 377 of Set 1 |Jiazi\n",
      "Processing Record 378 of Set 1 |Auki\n",
      "Processing Record 379 of Set 1 |Kavaratti\n",
      "Processing Record 380 of Set 1 |Elizabeth City\n",
      "Processing Record 381 of Set 1 |Myitkyina\n",
      "Processing Record 382 of Set 1 |Lovington\n",
      "City not found. Skipping...\n",
      "Processing Record 384 of Set 1 |Kristinestad\n",
      "Processing Record 385 of Set 1 |Mpulungu\n",
      "Processing Record 386 of Set 1 |Bani Walid\n",
      "Processing Record 387 of Set 1 |Xining\n",
      "Processing Record 388 of Set 1 |Vao\n",
      "Processing Record 389 of Set 1 |Ljungby\n",
      "Processing Record 390 of Set 1 |Acarí\n",
      "Processing Record 391 of Set 1 |Sioux Lookout\n",
      "Processing Record 392 of Set 1 |Martapura\n",
      "Processing Record 393 of Set 1 |Trincomalee\n",
      "Processing Record 394 of Set 1 |Port Shepstone\n",
      "Processing Record 395 of Set 1 |At-Bashi\n",
      "Processing Record 396 of Set 1 |Ahipara\n",
      "Processing Record 397 of Set 1 |Ouadda\n",
      "Processing Record 398 of Set 1 |Bonnybridge\n",
      "Processing Record 399 of Set 1 |Palauig\n",
      "City not found. Skipping...\n",
      "Processing Record 401 of Set 1 |San Felipe\n",
      "Processing Record 402 of Set 1 |Bembèrèkè\n",
      "Processing Record 403 of Set 1 |Arona\n",
      "Processing Record 404 of Set 1 |Sapa\n",
      "Processing Record 405 of Set 1 |Berlevåg\n",
      "Processing Record 406 of Set 1 |Bushehr\n",
      "Processing Record 407 of Set 1 |Kununurra\n",
      "Processing Record 408 of Set 1 |Coquimbo\n"
     ]
    },
    {
     "name": "stdout",
     "output_type": "stream",
     "text": [
      "City not found. Skipping...\n",
      "Processing Record 410 of Set 1 |Nanortalik\n",
      "Processing Record 411 of Set 1 |Esim\n",
      "Processing Record 412 of Set 1 |Ola\n",
      "Processing Record 413 of Set 1 |Margate\n",
      "Processing Record 414 of Set 1 |San Jose\n",
      "Processing Record 415 of Set 1 |Maceió\n",
      "Processing Record 416 of Set 1 |Paracatu\n",
      "Processing Record 417 of Set 1 |Yaring\n",
      "Processing Record 418 of Set 1 |Banfora\n",
      "Processing Record 419 of Set 1 |Hendersonville\n",
      "Processing Record 420 of Set 1 |Port-Gentil\n",
      "Processing Record 421 of Set 1 |Dakar\n",
      "Processing Record 422 of Set 1 |Leh\n",
      "Processing Record 423 of Set 1 |Wanganui\n",
      "Processing Record 424 of Set 1 |Kupang\n",
      "Processing Record 425 of Set 1 |Eucaliptus\n",
      "Processing Record 426 of Set 1 |Te Anau\n",
      "Processing Record 427 of Set 1 |Shellbrook\n",
      "Processing Record 428 of Set 1 |Isangel\n",
      "Processing Record 429 of Set 1 |Lewistown\n",
      "Processing Record 430 of Set 1 |Ternate\n",
      "Processing Record 431 of Set 1 |Korla\n",
      "City not found. Skipping...\n",
      "City not found. Skipping...\n",
      "Processing Record 434 of Set 1 |Ketchikan\n",
      "City not found. Skipping...\n",
      "Processing Record 436 of Set 1 |Petropavlovsk-Kamchatskiy\n",
      "Processing Record 437 of Set 1 |Şile\n",
      "Processing Record 438 of Set 1 |Pochutla\n",
      "Processing Record 439 of Set 1 |Necochea\n",
      "Processing Record 440 of Set 1 |Beloha\n",
      "Processing Record 441 of Set 1 |Buala\n",
      "Processing Record 442 of Set 1 |Oranjestad\n",
      "Processing Record 443 of Set 1 |San Cristobal\n",
      "Processing Record 444 of Set 1 |Geraldton\n",
      "City not found. Skipping...\n",
      "Processing Record 446 of Set 1 |Ust-Tsilma\n",
      "Processing Record 447 of Set 1 |Beringovskiy\n",
      "Processing Record 448 of Set 1 |Mildura\n",
      "Processing Record 449 of Set 1 |Changji\n",
      "Processing Record 450 of Set 1 |Amahai\n",
      "Processing Record 451 of Set 1 |Borås\n",
      "Processing Record 452 of Set 1 |General José Eduvigis Díaz\n",
      "Processing Record 453 of Set 1 |Lagoa\n",
      "Processing Record 454 of Set 1 |Staryy Nadym\n",
      "Processing Record 455 of Set 1 |Sittwe\n",
      "Processing Record 456 of Set 1 |Kangaatsiaq\n",
      "Processing Record 457 of Set 1 |Hwange\n",
      "City not found. Skipping...\n",
      "Processing Record 459 of Set 1 |Mnogovershinnyy\n",
      "Processing Record 460 of Set 1 |Antigonish\n",
      "Processing Record 461 of Set 1 |Sambava\n",
      "Processing Record 462 of Set 1 |Harlingen\n",
      "Processing Record 463 of Set 1 |Constantine\n",
      "City not found. Skipping...\n",
      "Processing Record 465 of Set 1 |Miass\n",
      "City not found. Skipping...\n",
      "Processing Record 467 of Set 1 |Athabasca\n",
      "Processing Record 468 of Set 1 |Katsuura\n",
      "Processing Record 469 of Set 1 |Worthington\n",
      "Processing Record 470 of Set 1 |Florianópolis\n",
      "Processing Record 471 of Set 1 |Waingapu\n",
      "Processing Record 472 of Set 1 |Camaná\n",
      "Processing Record 473 of Set 1 |Labuhan\n",
      "Processing Record 474 of Set 1 |Emba\n",
      "Processing Record 475 of Set 1 |Diamantino\n",
      "Processing Record 476 of Set 1 |Monrovia\n",
      "Processing Record 477 of Set 1 |Ambovombe\n",
      "Processing Record 478 of Set 1 |Villiers\n",
      "Processing Record 479 of Set 1 |Polokwane\n",
      "Processing Record 480 of Set 1 |Ossora\n",
      "Processing Record 481 of Set 1 |Carson City\n",
      "Processing Record 482 of Set 1 |Tessalit\n",
      "Processing Record 483 of Set 1 |Oistins\n",
      "Processing Record 484 of Set 1 |Palimé\n",
      "Processing Record 485 of Set 1 |Gisborne\n",
      "Processing Record 486 of Set 1 |Saint-Augustin\n",
      "Processing Record 487 of Set 1 |Krasnokamensk\n",
      "Processing Record 488 of Set 1 |Eyl\n",
      "Processing Record 489 of Set 1 |Lucea\n",
      "Processing Record 490 of Set 1 |Heraclea\n",
      "Processing Record 491 of Set 1 |Chengzhong\n",
      "City not found. Skipping...\n",
      "Processing Record 493 of Set 1 |Chifeng\n",
      "Processing Record 494 of Set 1 |Beyneu\n",
      "Processing Record 495 of Set 1 |Stokmarknes\n",
      "Processing Record 496 of Set 1 |Beech Grove\n",
      "Processing Record 497 of Set 1 |Laje\n",
      "City not found. Skipping...\n",
      "City not found. Skipping...\n",
      "Processing Record 500 of Set 1 |Port Hardy\n",
      "Processing Record 501 of Set 1 |Quatre Cocos\n",
      "Processing Record 502 of Set 1 |Mahibadhoo\n",
      "Processing Record 503 of Set 1 |Menzelinsk\n",
      "City not found. Skipping...\n",
      "Processing Record 505 of Set 1 |Salisbury\n",
      "Processing Record 506 of Set 1 |Broome\n",
      "Processing Record 507 of Set 1 |Novotroitsk\n",
      "Processing Record 508 of Set 1 |Bradford\n",
      "Processing Record 509 of Set 1 |Wangqing\n",
      "Processing Record 510 of Set 1 |Maltahöhe\n",
      "Processing Record 511 of Set 1 |Palekastro\n",
      "Processing Record 512 of Set 1 |Elmvale\n",
      "City not found. Skipping...\n",
      "Processing Record 514 of Set 1 |Vadsø\n",
      "Processing Record 515 of Set 1 |Tsabong\n",
      "Processing Record 516 of Set 1 |Mascote\n",
      "Processing Record 517 of Set 1 |Mananjary\n",
      "Processing Record 518 of Set 1 |Lampari\n",
      "Processing Record 519 of Set 1 |Preobrazheniye\n",
      "Processing Record 520 of Set 1 |Mehrān\n",
      "Processing Record 521 of Set 1 |Tasiilaq\n",
      "Processing Record 522 of Set 1 |Pisco\n",
      "Processing Record 523 of Set 1 |Kalmunai\n",
      "Processing Record 524 of Set 1 |Kirkwall\n",
      "Processing Record 525 of Set 1 |Strezhevoy\n",
      "Processing Record 526 of Set 1 |Waddān\n",
      "Processing Record 527 of Set 1 |Khon Kaen\n",
      "Processing Record 528 of Set 1 |Vestmanna\n",
      "Processing Record 529 of Set 1 |Nakhon Nayok\n",
      "Processing Record 530 of Set 1 |Yārāda\n",
      "Processing Record 531 of Set 1 |Merritt Island\n",
      "Processing Record 532 of Set 1 |Genhe\n",
      "Processing Record 533 of Set 1 |Umluj\n",
      "Processing Record 534 of Set 1 |Gizo Government Station\n",
      "Processing Record 535 of Set 1 |Haines Junction\n",
      "Processing Record 536 of Set 1 |Lucapa\n",
      "Processing Record 537 of Set 1 |Adrar\n",
      "Processing Record 538 of Set 1 |Chimbarongo\n",
      "Processing Record 539 of Set 1 |Krasnoslobodsk\n",
      "Processing Record 540 of Set 1 |Bonfim\n",
      "Processing Record 541 of Set 1 |Cascais\n",
      "Processing Record 542 of Set 1 |Luanda\n",
      "Processing Record 543 of Set 1 |Inírida\n",
      "Processing Record 544 of Set 1 |Pimentel\n",
      "Processing Record 545 of Set 1 |Turan\n",
      "Processing Record 546 of Set 1 |Olginskaya\n",
      "Processing Record 547 of Set 1 |Valdepeñas\n",
      "Processing Record 548 of Set 1 |Kandrian\n",
      "Processing Record 549 of Set 1 |Copperas Cove\n",
      "Processing Record 550 of Set 1 |Streletskoye\n",
      "Processing Record 551 of Set 1 |Lokosovo\n",
      "Processing Record 552 of Set 1 |Strizhi\n",
      "Processing Record 553 of Set 1 |San Miguel de Tucumán\n",
      "City not found. Skipping...\n",
      "Processing Record 555 of Set 1 |Saint-Pierre\n",
      "Processing Record 556 of Set 1 |Kiunga\n",
      "Processing Record 557 of Set 1 |Lumajang\n",
      "Processing Record 558 of Set 1 |Shache\n",
      "Processing Record 559 of Set 1 |Pyapon\n",
      "Processing Record 560 of Set 1 |Keroka\n",
      "Processing Record 561 of Set 1 |Kibre Mengist\n",
      "Processing Record 562 of Set 1 |Bandar-e Lengeh\n",
      "Processing Record 563 of Set 1 |Ambilobe\n",
      "Processing Record 564 of Set 1 |Leticia\n",
      "City not found. Skipping...\n",
      "Processing Record 566 of Set 1 |Dinghaicun\n",
      "Processing Record 567 of Set 1 |Zhigansk\n",
      "Processing Record 568 of Set 1 |Den Helder\n",
      "Processing Record 569 of Set 1 |Mount Gambier\n",
      "City not found. Skipping...\n",
      "Processing Record 571 of Set 1 |Sandakan\n",
      "City not found. Skipping...\n",
      "Processing Record 573 of Set 1 |Baykit\n",
      "Processing Record 574 of Set 1 |Kisanga\n",
      "Processing Record 575 of Set 1 |Fereydūnkenār\n",
      "Processing Record 576 of Set 1 |Henties Bay\n",
      "Processing Record 577 of Set 1 |Ormond Beach\n",
      "Processing Record 578 of Set 1 |Lavrentiya\n",
      "Processing Record 579 of Set 1 |Hirara\n",
      "Processing Record 580 of Set 1 |Ust'-Ishim\n",
      "Processing Record 581 of Set 1 |Brae\n",
      "Processing Record 582 of Set 1 |Princeton\n",
      "Processing Record 583 of Set 1 |Marsá Maţrūḩ\n",
      "Processing Record 584 of Set 1 |Ca Mau\n",
      "Processing Record 585 of Set 1 |Otradnoye\n",
      "Processing Record 586 of Set 1 |Xai-Xai\n",
      "Processing Record 587 of Set 1 |Ribeira Brava\n",
      "Processing Record 588 of Set 1 |Piaçabuçu\n",
      "Processing Record 589 of Set 1 |Viedma\n",
      "Processing Record 590 of Set 1 |Christchurch\n",
      "Processing Record 591 of Set 1 |Humberto de Campos\n",
      "Processing Record 592 of Set 1 |Dehlorān\n",
      "Processing Record 593 of Set 1 |Nouadhibou\n",
      "Processing Record 594 of Set 1 |Kütahya\n",
      "Processing Record 595 of Set 1 |Stange\n",
      "Processing Record 596 of Set 1 |Urucará\n",
      "Processing Record 597 of Set 1 |Le Port\n",
      "Processing Record 598 of Set 1 |Baláo\n",
      "Processing Record 599 of Set 1 |Whitehorse\n",
      "Processing Record 600 of Set 1 |Sal Rei\n",
      "Processing Record 601 of Set 1 |Coihueco\n",
      "Processing Record 602 of Set 1 |Abhar\n",
      "Processing Record 603 of Set 1 |Siimusti\n",
      "Processing Record 604 of Set 1 |Gorom-Gorom\n",
      "Processing Record 605 of Set 1 |Nueva Imperial\n",
      "Processing Record 606 of Set 1 |Anadyr\n",
      "Processing Record 607 of Set 1 |Alyangula\n",
      "Processing Record 608 of Set 1 |Lithgow\n",
      "Processing Record 609 of Set 1 |Kindu\n",
      "Processing Record 610 of Set 1 |Bacolod City\n"
     ]
    },
    {
     "name": "stdout",
     "output_type": "stream",
     "text": [
      "Processing Record 611 of Set 1 |Progreso\n",
      "Processing Record 612 of Set 1 |Fukuechō\n",
      "Processing Record 613 of Set 1 |Shingū\n",
      "Processing Record 614 of Set 1 |Tambura\n",
      "Processing Record 615 of Set 1 |Klyuchi\n",
      "Processing Record 616 of Set 1 |Borovsk\n",
      "Processing Record 617 of Set 1 |Jumla\n",
      "Processing Record 618 of Set 1 |Conde\n",
      "Processing Record 619 of Set 1 |San Ignacio\n",
      "Processing Record 620 of Set 1 |Bereket\n",
      "Processing Record 621 of Set 1 |Maragogi\n",
      "Processing Record 622 of Set 1 |Pemba\n",
      "Processing Record 623 of Set 1 |Moerai\n",
      "Processing Record 624 of Set 1 |Izazi\n",
      "Processing Record 625 of Set 1 |Mizdah\n",
      "Processing Record 626 of Set 1 |Pitogo\n",
      "Processing Record 627 of Set 1 |Zyryanka\n",
      "Processing Record 628 of Set 1 |Emporia\n",
      "Processing Record 629 of Set 1 |Ulagan\n",
      "Processing Record 630 of Set 1 |Sakakah\n",
      "Processing Record 631 of Set 1 |Toma\n",
      "Processing Record 632 of Set 1 |Dutlwe\n",
      "Processing Record 633 of Set 1 |Marzuq\n"
     ]
    }
   ],
   "source": [
    "url = \"http://api.openweathermap.org/data/2.5/weather?\"\n",
    "\n",
    "final_url = url + \"appid=\" + weather_api_key + \"&q=\" \n",
    "\n",
    "# Get the temperature from the response\n",
    "# print(f\"The weather API responded with: {weather_json}.\")\n",
    " \n",
    "    \n",
    "# weather_response = requests.get(final_url + cities[0])\n",
    "# weather_json = weather_response.json()\n",
    "\n",
    "pp = pprint.PrettyPrinter(indent=4, width=80, compact=False)\n",
    "\n",
    "# Testing PPrint and jsonifying the code so I can read the key names\n",
    "# pp.pprint(weather_json)\n",
    "# weather_json['name']\n",
    "# weather_json['id']\n",
    "# print(f\"name: {weather_json['name']}, city id: {weather_json['id']}\")\n",
    "\n",
    "# Error message;\n",
    "# {'cod': '404', 'message': 'city not found'}\n",
    "\n",
    "counter = 0\n",
    "city_data = []\n",
    "\n",
    "\n",
    "# \tCity\tLat\tLng\tMax Temp\tHumidity\tCloudiness\tWind Speed\tCountry\tDate\n",
    "\n",
    "for city in cities:\n",
    "    formatted_weath_json = {}\n",
    "    counter += 1\n",
    "#     if counter >= 500:\n",
    "# #         print(weather_json)\n",
    "#         break\n",
    "    final_url = url + \"appid=\" + weather_api_key + \"&q=\" + city\n",
    "    \n",
    "    weather_response = requests.get(final_url)\n",
    "    weather_json = weather_response.json()\n",
    "    \n",
    "    if weather_json['cod'] == '404':\n",
    "        print('City not found. Skipping...')\n",
    "        continue \n",
    "\n",
    "    # Below assembles formatted json\n",
    "    formatted_weath_json['City'] = weather_json['name']\n",
    "    formatted_weath_json['Lat'] = weather_json['coord']['lon']\n",
    "    formatted_weath_json['Lng'] = weather_json['coord']['lat']\n",
    "    formatted_weath_json['Max Temp'] = weather_json['main']['temp_max']\n",
    "    formatted_weath_json['Humidity'] = weather_json['main']['humidity']\n",
    "    formatted_weath_json['Cloudiness'] = weather_json['clouds']['all']\n",
    "    formatted_weath_json['Wind Speed'] = weather_json['wind']['speed']\n",
    "    formatted_weath_json['Country'] = weather_json['sys']['country']\n",
    "    formatted_weath_json['Date'] = weather_json['dt']\n",
    "    \n",
    "\n",
    "    # Are \"sets\" just a formatting thing or is it relevant for grouping?\n",
    "        \n",
    "    city_data.append(formatted_weath_json)\n",
    "    print(f\"Processing Record {counter} of Set 1 |{weather_json['name']}\")"
   ]
  },
  {
   "cell_type": "markdown",
   "metadata": {},
   "source": [
    "### Convert Raw Data to DataFrame\n",
    "* Export the city data into a .csv.\n",
    "* Display the DataFrame"
   ]
  },
  {
   "cell_type": "code",
   "execution_count": 32,
   "metadata": {},
   "outputs": [
    {
     "name": "stderr",
     "output_type": "stream",
     "text": [
      "C:\\Users\\asiah\\anaconda3\\lib\\site-packages\\ipykernel_launcher.py:2: FutureWarning: pandas.io.json.json_normalize is deprecated, use pandas.json_normalize instead\n",
      "  \n"
     ]
    },
    {
     "data": {
      "text/plain": [
       "City          583\n",
       "Lat           583\n",
       "Lng           583\n",
       "Max Temp      583\n",
       "Humidity      583\n",
       "Cloudiness    583\n",
       "Wind Speed    583\n",
       "Country       583\n",
       "Date          583\n",
       "dtype: int64"
      ]
     },
     "execution_count": 32,
     "metadata": {},
     "output_type": "execute_result"
    }
   ],
   "source": [
    "# converting json dataset from dictionary to dataframe\n",
    "city_dataframe = pd.DataFrame.from_dict(json_normalize(city_data), orient='columns')\n",
    "\n",
    "city_dataframe.count()"
   ]
  },
  {
   "cell_type": "code",
   "execution_count": 33,
   "metadata": {},
   "outputs": [
    {
     "data": {
      "text/html": [
       "<div>\n",
       "<style scoped>\n",
       "    .dataframe tbody tr th:only-of-type {\n",
       "        vertical-align: middle;\n",
       "    }\n",
       "\n",
       "    .dataframe tbody tr th {\n",
       "        vertical-align: top;\n",
       "    }\n",
       "\n",
       "    .dataframe thead th {\n",
       "        text-align: right;\n",
       "    }\n",
       "</style>\n",
       "<table border=\"1\" class=\"dataframe\">\n",
       "  <thead>\n",
       "    <tr style=\"text-align: right;\">\n",
       "      <th></th>\n",
       "      <th>City</th>\n",
       "      <th>Lat</th>\n",
       "      <th>Lng</th>\n",
       "      <th>Max Temp</th>\n",
       "      <th>Humidity</th>\n",
       "      <th>Cloudiness</th>\n",
       "      <th>Wind Speed</th>\n",
       "      <th>Country</th>\n",
       "      <th>Date</th>\n",
       "    </tr>\n",
       "  </thead>\n",
       "  <tbody>\n",
       "    <tr>\n",
       "      <th>0</th>\n",
       "      <td>Chokurdakh</td>\n",
       "      <td>147.92</td>\n",
       "      <td>70.63</td>\n",
       "      <td>275.05</td>\n",
       "      <td>87</td>\n",
       "      <td>100</td>\n",
       "      <td>3.27</td>\n",
       "      <td>RU</td>\n",
       "      <td>1597342597</td>\n",
       "    </tr>\n",
       "    <tr>\n",
       "      <th>1</th>\n",
       "      <td>Rikitea</td>\n",
       "      <td>-134.97</td>\n",
       "      <td>-23.12</td>\n",
       "      <td>293.82</td>\n",
       "      <td>69</td>\n",
       "      <td>0</td>\n",
       "      <td>7.30</td>\n",
       "      <td>PF</td>\n",
       "      <td>1597342891</td>\n",
       "    </tr>\n",
       "    <tr>\n",
       "      <th>2</th>\n",
       "      <td>Albany</td>\n",
       "      <td>-73.97</td>\n",
       "      <td>42.60</td>\n",
       "      <td>301.48</td>\n",
       "      <td>46</td>\n",
       "      <td>100</td>\n",
       "      <td>2.56</td>\n",
       "      <td>US</td>\n",
       "      <td>1597342461</td>\n",
       "    </tr>\n",
       "    <tr>\n",
       "      <th>3</th>\n",
       "      <td>Mataura</td>\n",
       "      <td>168.86</td>\n",
       "      <td>-46.19</td>\n",
       "      <td>274.82</td>\n",
       "      <td>89</td>\n",
       "      <td>1</td>\n",
       "      <td>0.71</td>\n",
       "      <td>NZ</td>\n",
       "      <td>1597342892</td>\n",
       "    </tr>\n",
       "    <tr>\n",
       "      <th>4</th>\n",
       "      <td>Betanzos</td>\n",
       "      <td>-8.21</td>\n",
       "      <td>43.28</td>\n",
       "      <td>294.15</td>\n",
       "      <td>68</td>\n",
       "      <td>20</td>\n",
       "      <td>4.10</td>\n",
       "      <td>ES</td>\n",
       "      <td>1597342892</td>\n",
       "    </tr>\n",
       "  </tbody>\n",
       "</table>\n",
       "</div>"
      ],
      "text/plain": [
       "         City     Lat    Lng  Max Temp  Humidity  Cloudiness  Wind Speed  \\\n",
       "0  Chokurdakh  147.92  70.63    275.05        87         100        3.27   \n",
       "1     Rikitea -134.97 -23.12    293.82        69           0        7.30   \n",
       "2      Albany  -73.97  42.60    301.48        46         100        2.56   \n",
       "3     Mataura  168.86 -46.19    274.82        89           1        0.71   \n",
       "4    Betanzos   -8.21  43.28    294.15        68          20        4.10   \n",
       "\n",
       "  Country        Date  \n",
       "0      RU  1597342597  \n",
       "1      PF  1597342891  \n",
       "2      US  1597342461  \n",
       "3      NZ  1597342892  \n",
       "4      ES  1597342892  "
      ]
     },
     "execution_count": 33,
     "metadata": {},
     "output_type": "execute_result"
    }
   ],
   "source": [
    "city_dataframe.head()"
   ]
  },
  {
   "cell_type": "markdown",
   "metadata": {},
   "source": [
    "## Inspect the data and remove the cities where the humidity > 100%.\n",
    "----\n",
    "Skip this step if there are no cities that have humidity > 100%. "
   ]
  },
  {
   "cell_type": "code",
   "execution_count": 34,
   "metadata": {},
   "outputs": [
    {
     "data": {
      "text/html": [
       "<div>\n",
       "<style scoped>\n",
       "    .dataframe tbody tr th:only-of-type {\n",
       "        vertical-align: middle;\n",
       "    }\n",
       "\n",
       "    .dataframe tbody tr th {\n",
       "        vertical-align: top;\n",
       "    }\n",
       "\n",
       "    .dataframe thead th {\n",
       "        text-align: right;\n",
       "    }\n",
       "</style>\n",
       "<table border=\"1\" class=\"dataframe\">\n",
       "  <thead>\n",
       "    <tr style=\"text-align: right;\">\n",
       "      <th></th>\n",
       "      <th>City</th>\n",
       "      <th>Lat</th>\n",
       "      <th>Lng</th>\n",
       "      <th>Max Temp</th>\n",
       "      <th>Humidity</th>\n",
       "      <th>Cloudiness</th>\n",
       "      <th>Wind Speed</th>\n",
       "      <th>Country</th>\n",
       "      <th>Date</th>\n",
       "    </tr>\n",
       "  </thead>\n",
       "  <tbody>\n",
       "  </tbody>\n",
       "</table>\n",
       "</div>"
      ],
      "text/plain": [
       "Empty DataFrame\n",
       "Columns: [City, Lat, Lng, Max Temp, Humidity, Cloudiness, Wind Speed, Country, Date]\n",
       "Index: []"
      ]
     },
     "execution_count": 34,
     "metadata": {},
     "output_type": "execute_result"
    }
   ],
   "source": [
    " city_dataframe.loc[city_dataframe['Humidity'] >100]"
   ]
  },
  {
   "cell_type": "code",
   "execution_count": 35,
   "metadata": {},
   "outputs": [],
   "source": [
    "#  Get the indices of cities that have humidity over 100%.\n"
   ]
  },
  {
   "cell_type": "code",
   "execution_count": 36,
   "metadata": {
    "scrolled": true
   },
   "outputs": [],
   "source": [
    "# Make a new DataFrame equal to the city data to drop all humidity outliers by index.\n",
    "# Passing \"inplace=False\" will make a copy of the city_data DataFrame, which we call \"clean_city_data\".\n",
    "\n",
    "\n"
   ]
  },
  {
   "cell_type": "code",
   "execution_count": 37,
   "metadata": {},
   "outputs": [],
   "source": [
    "# Extract relevant fields from the data frame\n",
    "\n",
    "\n",
    "# Export the City_Data into a csv\n",
    "\n",
    "city_dataframe.to_csv('city_dataframe.csv')\n"
   ]
  },
  {
   "cell_type": "markdown",
   "metadata": {},
   "source": [
    "## Plotting the Data\n",
    "* Use proper labeling of the plots using plot titles (including date of analysis) and axes labels.\n",
    "* Save the plotted figures as .pngs."
   ]
  },
  {
   "cell_type": "markdown",
   "metadata": {},
   "source": [
    "## Latitude vs. Temperature Plot"
   ]
  },
  {
   "cell_type": "code",
   "execution_count": 51,
   "metadata": {
    "scrolled": true
   },
   "outputs": [
    {
     "data": {
      "text/plain": [
       "<matplotlib.collections.PathCollection at 0x1cb7e2b8dc8>"
      ]
     },
     "execution_count": 51,
     "metadata": {},
     "output_type": "execute_result"
    },
    {
     "data": {
      "image/png": "[encoded data removed]",
      "text/plain": [
       "<Figure size 432x288 with 1 Axes>"
      ]
     },
     "metadata": {
      "needs_background": "light"
     },
     "output_type": "display_data"
    }
   ],
   "source": [
    "lat_temp_scatter = pd.read_csv('city_dataframe.csv')\n",
    "lat_temp_scatter\n",
    "\n",
    "# Ask about the scatterplot outliers and wheather I need to filter my data\n",
    "\n",
    "x = lat_temp_scatter[\"Lat\"]\n",
    "y = (lat_temp_scatter[\"Max Temp\"] - 273.15) * 9/5 + 32 \n",
    "\n",
    "plt.xlabel('Latitude'); plt.ylabel('Max Temperature (F)')\n",
    "\n",
    "plt.scatter(x, y)"
   ]
  },
  {
   "cell_type": "markdown",
   "metadata": {},
   "source": [
    "## Latitude vs. Humidity Plot"
   ]
  },
  {
   "cell_type": "code",
   "execution_count": 53,
   "metadata": {},
   "outputs": [
    {
     "data": {
      "text/plain": [
       "<matplotlib.collections.PathCollection at 0x1cb7e32d348>"
      ]
     },
     "execution_count": 53,
     "metadata": {},
     "output_type": "execute_result"
    },
    {
     "data": {
      "image/png": "[encoded data removed]",
      "text/plain": [
       "<Figure size 432x288 with 1 Axes>"
      ]
     },
     "metadata": {
      "needs_background": "light"
     },
     "output_type": "display_data"
    }
   ],
   "source": [
    "x = lat_temp_scatter[\"Lat\"]\n",
    "y = lat_temp_scatter[\"Humidity\"] \n",
    "\n",
    "plt.xlabel('Latitude'); plt.ylabel('Humidity (%)')\n",
    "\n",
    "plt.scatter(x, y)"
   ]
  },
  {
   "cell_type": "markdown",
   "metadata": {},
   "source": [
    "## Latitude vs. Cloudiness Plot"
   ]
  },
  {
   "cell_type": "code",
   "execution_count": 54,
   "metadata": {},
   "outputs": [
    {
     "data": {
      "text/plain": [
       "<matplotlib.collections.PathCollection at 0x1cb7e396288>"
      ]
     },
     "execution_count": 54,
     "metadata": {},
     "output_type": "execute_result"
    },
    {
     "data": {
      "image/png": "[encoded data removed]",
      "text/plain": [
       "<Figure size 432x288 with 1 Axes>"
      ]
     },
     "metadata": {
      "needs_background": "light"
     },
     "output_type": "display_data"
    }
   ],
   "source": [
    "x = lat_temp_scatter[\"Lat\"]\n",
    "y = lat_temp_scatter[\"Cloudiness\"] \n",
    "\n",
    "plt.xlabel('Latitude'); plt.ylabel('Cloudiness (%)')\n",
    "\n",
    "plt.scatter(x, y)"
   ]
  },
  {
   "cell_type": "markdown",
   "metadata": {},
   "source": [
    "## Latitude vs. Wind Speed Plot"
   ]
  },
  {
   "cell_type": "code",
   "execution_count": 55,
   "metadata": {},
   "outputs": [
    {
     "data": {
      "text/plain": [
       "<matplotlib.collections.PathCollection at 0x1cb7e3fa6c8>"
      ]
     },
     "execution_count": 55,
     "metadata": {},
     "output_type": "execute_result"
    },
    {
     "data": {
      "image/png": "[encoded data removed]",
      "text/plain": [
       "<Figure size 432x288 with 1 Axes>"
      ]
     },
     "metadata": {
      "needs_background": "light"
     },
     "output_type": "display_data"
    }
   ],
   "source": [
    "x = lat_temp_scatter[\"Lat\"]\n",
    "y = lat_temp_scatter[\"Wind Speed\"] \n",
    "\n",
    "plt.xlabel('Latitude'); plt.ylabel('Wind Speed (mph)')\n",
    "\n",
    "plt.scatter(x, y)"
   ]
  },
  {
   "cell_type": "markdown",
   "metadata": {},
   "source": [
    "## Linear Regression"
   ]
  },
  {
   "cell_type": "code",
   "execution_count": 14,
   "metadata": {},
   "outputs": [],
   "source": [
    "# OPTIONAL: Create a function to create Linear Regression plots"
   ]
  },
  {
   "cell_type": "code",
   "execution_count": 15,
   "metadata": {},
   "outputs": [],
   "source": [
    "# Create Northern and Southern Hemisphere DataFrames"
   ]
  },
  {
   "cell_type": "markdown",
   "metadata": {},
   "source": [
    "####  Northern Hemisphere - Max Temp vs. Latitude Linear Regression"
   ]
  },
  {
   "cell_type": "code",
   "execution_count": 16,
   "metadata": {},
   "outputs": [
    {
     "name": "stdout",
     "output_type": "stream",
     "text": [
      "The r-squared is: 0.8271188905041935\n"
     ]
    },
    {
     "data": {
      "image/png": "[encoded data removed]",
      "text/plain": [
       "<Figure size 432x288 with 1 Axes>"
      ]
     },
     "metadata": {
      "needs_background": "light"
     },
     "output_type": "display_data"
    }
   ],
   "source": []
  },
  {
   "cell_type": "markdown",
   "metadata": {},
   "source": [
    "####  Southern Hemisphere - Max Temp vs. Latitude Linear Regression"
   ]
  },
  {
   "cell_type": "code",
   "execution_count": 17,
   "metadata": {},
   "outputs": [
    {
     "name": "stdout",
     "output_type": "stream",
     "text": [
      "The r-squared is: 0.39936284758885965\n"
     ]
    },
    {
     "data": {
      "image/png": "[encoded data removed]",
      "text/plain": [
       "<Figure size 432x288 with 1 Axes>"
      ]
     },
     "metadata": {
      "needs_background": "light"
     },
     "output_type": "display_data"
    }
   ],
   "source": []
  },
  {
   "cell_type": "markdown",
   "metadata": {},
   "source": [
    "####  Northern Hemisphere - Humidity (%) vs. Latitude Linear Regression"
   ]
  },
  {
   "cell_type": "code",
   "execution_count": 18,
   "metadata": {},
   "outputs": [
    {
     "name": "stdout",
     "output_type": "stream",
     "text": [
      "The r-squared is: 0.10829462153873139\n"
     ]
    },
    {
     "data": {
      "image/png": "[encoded data removed]",
      "text/plain": [
       "<Figure size 432x288 with 1 Axes>"
      ]
     },
     "metadata": {
      "needs_background": "light"
     },
     "output_type": "display_data"
    }
   ],
   "source": []
  },
  {
   "cell_type": "markdown",
   "metadata": {},
   "source": [
    "####  Southern Hemisphere - Humidity (%) vs. Latitude Linear Regression"
   ]
  },
  {
   "cell_type": "code",
   "execution_count": 19,
   "metadata": {},
   "outputs": [
    {
     "name": "stdout",
     "output_type": "stream",
     "text": [
      "The r-squared is: 0.0008996079328825663\n"
     ]
    },
    {
     "data": {
      "image/png": "[encoded data removed]",
      "text/plain": [
       "<Figure size 432x288 with 1 Axes>"
      ]
     },
     "metadata": {
      "needs_background": "light"
     },
     "output_type": "display_data"
    }
   ],
   "source": []
  },
  {
   "cell_type": "markdown",
   "metadata": {},
   "source": [
    "####  Northern Hemisphere - Cloudiness (%) vs. Latitude Linear Regression"
   ]
  },
  {
   "cell_type": "code",
   "execution_count": 20,
   "metadata": {},
   "outputs": [
    {
     "name": "stdout",
     "output_type": "stream",
     "text": [
      "The r-squared is: 0.05768812657005063\n"
     ]
    },
    {
     "data": {
      "image/png": "[encoded data removed]",
      "text/plain": [
       "<Figure size 432x288 with 1 Axes>"
      ]
     },
     "metadata": {
      "needs_background": "light"
     },
     "output_type": "display_data"
    }
   ],
   "source": []
  },
  {
   "cell_type": "markdown",
   "metadata": {},
   "source": [
    "####  Southern Hemisphere - Cloudiness (%) vs. Latitude Linear Regression"
   ]
  },
  {
   "cell_type": "code",
   "execution_count": 21,
   "metadata": {},
   "outputs": [
    {
     "name": "stdout",
     "output_type": "stream",
     "text": [
      "The r-squared is: 0.0684912094859049\n"
     ]
    },
    {
     "data": {
      "image/png": "[encoded data removed]",
      "text/plain": [
       "<Figure size 432x288 with 1 Axes>"
      ]
     },
     "metadata": {
      "needs_background": "light"
     },
     "output_type": "display_data"
    }
   ],
   "source": []
  },
  {
   "cell_type": "markdown",
   "metadata": {},
   "source": [
    "####  Northern Hemisphere - Wind Speed (mph) vs. Latitude Linear Regression"
   ]
  },
  {
   "cell_type": "code",
   "execution_count": 22,
   "metadata": {},
   "outputs": [
    {
     "name": "stdout",
     "output_type": "stream",
     "text": [
      "The r-squared is: 0.023371104533850804\n"
     ]
    },
    {
     "data": {
      "image/png": "[encoded data removed]",
      "text/plain": [
       "<Figure size 432x288 with 1 Axes>"
      ]
     },
     "metadata": {
      "needs_background": "light"
     },
     "output_type": "display_data"
    }
   ],
   "source": []
  },
  {
   "cell_type": "markdown",
   "metadata": {},
   "source": [
    "####  Southern Hemisphere - Wind Speed (mph) vs. Latitude Linear Regression"
   ]
  },
  {
   "cell_type": "code",
   "execution_count": 23,
   "metadata": {},
   "outputs": [
    {
     "name": "stdout",
     "output_type": "stream",
     "text": [
      "The r-squared is: 0.03381889207758188\n"
     ]
    },
    {
     "data": {
      "image/png": "[encoded data removed]",
      "text/plain": [
       "<Figure size 432x288 with 1 Axes>"
      ]
     },
     "metadata": {
      "needs_background": "light"
     },
     "output_type": "display_data"
    }
   ],
   "source": []
  },
  {
   "cell_type": "code",
   "execution_count": null,
   "metadata": {},
   "outputs": [],
   "source": []
  }
 ],
 "metadata": {
  "anaconda-cloud": {},
  "kernel_info": {
   "name": "python3"
  },
  "kernelspec": {
   "display_name": "Python 3",
   "language": "python",
   "name": "python3"
  },
  "language_info": {
   "codemirror_mode": {
    "name": "ipython",
    "version": 3
   },
   "file_extension": ".py",
   "mimetype": "text/x-python",
   "name": "python",
   "nbconvert_exporter": "python",
   "pygments_lexer": "ipython3",
   "version": "3.7.6"
  },
  "latex_envs": {
   "LaTeX_envs_menu_present": true,
   "autoclose": false,
   "autocomplete": true,
   "bibliofile": "biblio.bib",
   "cite_by": "apalike",
   "current_citInitial": 1,
   "eqLabelWithNumbers": true,
   "eqNumInitial": 1,
   "hotkeys": {
    "equation": "Ctrl-E",
    "itemize": "Ctrl-I"
   },
   "labels_anchors": false,
   "latex_user_defs": false,
   "report_style_numbering": false,
   "user_envs_cfg": false
  },
  "nteract": {
   "version": "0.12.3"
  }
 },
 "nbformat": 4,
 "nbformat_minor": 2
}
